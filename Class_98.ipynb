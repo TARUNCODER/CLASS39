{
  "nbformat": 4,
  "nbformat_minor": 0,
  "metadata": {
    "colab": {
      "provenance": [],
      "authorship_tag": "ABX9TyPPyZyT7ldI1ttgsRiCx3mH",
      "include_colab_link": true
    },
    "kernelspec": {
      "name": "python3",
      "display_name": "Python 3"
    },
    "language_info": {
      "name": "python"
    }
  },
  "cells": [
    {
      "cell_type": "markdown",
      "metadata": {
        "id": "view-in-github",
        "colab_type": "text"
      },
      "source": [
        "<a href=\"https://colab.research.google.com/github/TARUNCODER/CLASS39/blob/main/Class_98.ipynb\" target=\"_parent\"><img src=\"https://colab.research.google.com/assets/colab-badge.svg\" alt=\"Open In Colab\"/></a>"
      ]
    },
    {
      "cell_type": "code",
      "execution_count": 1,
      "metadata": {
        "colab": {
          "base_uri": "https://localhost:8080/"
        },
        "id": "Qny-ZXAxj4ne",
        "outputId": "991e8311-1c00-4260-bd82-a4690d0d2e7c"
      },
      "outputs": [
        {
          "output_type": "execute_result",
          "data": {
            "text/plain": [
              "[75,\n",
              " 98,\n",
              " 89,\n",
              " 86,\n",
              " 79,\n",
              " 62,\n",
              " 78,\n",
              " 61,\n",
              " 90,\n",
              " 97,\n",
              " 92,\n",
              " 61,\n",
              " 64,\n",
              " 97,\n",
              " 82,\n",
              " 69,\n",
              " 87,\n",
              " 96,\n",
              " 65,\n",
              " 75,\n",
              " 85,\n",
              " 76,\n",
              " 95,\n",
              " 83,\n",
              " 62,\n",
              " 80,\n",
              " 80,\n",
              " 77,\n",
              " 94,\n",
              " 71,\n",
              " 86,\n",
              " 94,\n",
              " 85,\n",
              " 99,\n",
              " 77,\n",
              " 68,\n",
              " 92,\n",
              " 91,\n",
              " 99,\n",
              " 90]"
            ]
          },
          "metadata": {},
          "execution_count": 1
        }
      ],
      "source": [
        "[75, 98, 89, 86, 79, 62, 78, 61, 90, 97, 92, 61, 64, 97, 82, 69, 87, 96, 65, 75, 85, 76, 95, 83, 62, 80, 80, 77, 94, 71, 86, 94, 85, 99, 77, 68, 92, 91, 99, 90]"
      ]
    },
    {
      "cell_type": "code",
      "source": [
        "\n",
        "list_of_marks = [75, 98, 89, 86, 79, 62, 78, 61, 90, 97, 92, 61, 64, 97, 82, 69, 87, 96, 65, 75, 85, 76, 95, 83, 62, 80, 80, 77, 94, 71, 86, 94, 85, 99, 77, 68, 92, 91, 99, 90]"
      ],
      "metadata": {
        "id": "gLCHjyFRkOhg"
      },
      "execution_count": 2,
      "outputs": []
    },
    {
      "cell_type": "code",
      "source": [
        "count = 0;\n",
        "\n",
        "check_num = 62\n",
        "\n",
        "for elem in list_of_marks:\n",
        "  if(check_num == elem):\n",
        "    count = count + 1\n",
        "\n",
        "print(count)"
      ],
      "metadata": {
        "colab": {
          "base_uri": "https://localhost:8080/"
        },
        "id": "HeF-pJ9mkbvH",
        "outputId": "809e2571-9d90-4dca-a9ba-705f6f8554e0"
      },
      "execution_count": 4,
      "outputs": [
        {
          "output_type": "stream",
          "name": "stdout",
          "text": [
            "2\n"
          ]
        }
      ]
    }
  ]
}